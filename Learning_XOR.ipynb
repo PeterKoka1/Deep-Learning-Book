{
 "cells": [
  {
   "cell_type": "markdown",
   "metadata": {},
   "source": [
    "### Learning the XOR (\"exclusive or\") function with a feedforward network "
   ]
  },
  {
   "cell_type": "markdown",
   "metadata": {},
   "source": [
    "#### We initialize our matrices\n",
    "\n",
    "### $\n",
    "\\mathbf{X} =  \\begin{vmatrix}\n",
    "0 & 0\\\\\n",
    "0 & 1\\\\\n",
    "1 & 0\\\\\n",
    "1 & 1\\\\\n",
    "\\end{vmatrix}\n",
    "$ $\n",
    "\\mathbf{y} =  \\begin{vmatrix}\n",
    "0\\\\\n",
    "1\\\\\n",
    "1\\\\\n",
    "1\\\\\n",
    "\\end{vmatrix}\n",
    "$ $\n",
    "\\mathbf{W} =  \\begin{vmatrix}\n",
    "1 & 1\\\\\n",
    "1 & 1\\\\\n",
    "\\end{vmatrix}\n",
    "$ $\n",
    "\\mathbf{c} = \\begin{vmatrix}\n",
    "0\\\\\n",
    "-1\\\\\n",
    "\\end{vmatrix}\n",
    "$ $\n",
    "\\mathbf{w} = \\begin{vmatrix}\n",
    "0\\\\\n",
    "-1\\\\\n",
    "\\end{vmatrix}\n",
    "$\n",
    "\n",
    "#### and\n",
    "\n",
    "### $b = 0$"
   ]
  },
  {
   "cell_type": "code",
   "execution_count": 1,
   "metadata": {},
   "outputs": [],
   "source": [
    "import numpy as np\n",
    "np.random.seed(123)\n",
    "import matplotlib.pyplot as plt\n",
    "import warnings\n",
    "warnings.filterwarnings('ignore')\n",
    "\n",
    "X = np.array([[0,0],[0,1],[1,0],[1,1]])\n",
    "y = np.array([[0],[1],[1],[0]])\n",
    "W = np.array([[1,1],[1,1]])\n",
    "c = np.array([[0],[-1]])\n",
    "w = np.array([[1],[-2]])\n",
    "b = 0"
   ]
  },
  {
   "cell_type": "code",
   "execution_count": 2,
   "metadata": {},
   "outputs": [
    {
     "data": {
      "image/png": "[encoded data removed]",
      "text/plain": [
       "<matplotlib.figure.Figure at 0x23241f5ad30>"
      ]
     },
     "metadata": {},
     "output_type": "display_data"
    }
   ],
   "source": [
    "x_coords = [0,0,1,1]\n",
    "y_coords = [0,1,0,1]\n",
    "plt.scatter(x_coords, y_coords)\n",
    "plt.show()"
   ]
  },
  {
   "cell_type": "markdown",
   "metadata": {},
   "source": [
    "#### Multiplying step by step:\n",
    "\n",
    "### $\\mathbf{X}\\mathbf{W}$\n",
    "\n",
    "### $c^T + \\mathbf{XW}$\n",
    "\n",
    "### $h = g(c^T + \\mathbf{XW}) = max\\{0,c^T + \\mathbf{XW}\\}$\n",
    "\n",
    "### $f(\\mathbf{x};\\mathbf{W},\\mathbf{c},\\mathbf{w},b) = hw + b$\n"
   ]
  },
  {
   "cell_type": "code",
   "execution_count": 3,
   "metadata": {},
   "outputs": [
    {
     "data": {
      "text/plain": [
       "array([[0],\n",
       "       [1],\n",
       "       [1],\n",
       "       [0]])"
      ]
     },
     "execution_count": 3,
     "metadata": {},
     "output_type": "execute_result"
    }
   ],
   "source": [
    "XW = X.dot(W)\n",
    "XW_c = np.add(c.T, XW)\n",
    "h = np.maximum(0, XW_c)\n",
    "y_hat = h.dot(w) + b\n",
    "y_hat"
   ]
  },
  {
   "cell_type": "markdown",
   "metadata": {},
   "source": [
    "#### Or equivalently\n",
    "\n",
    "### $f(\\mathbf{x};\\mathbf{W},\\mathbf{c},\\mathbf{w},b) = \\mathbf{w}^Tmax\\{0,\\mathbf{W}^T\\mathbf{x}+\\mathbf{c}\\} + b$"
   ]
  },
  {
   "cell_type": "code",
   "execution_count": 4,
   "metadata": {},
   "outputs": [
    {
     "data": {
      "text/plain": [
       "array([[0],\n",
       "       [1],\n",
       "       [1],\n",
       "       [0]])"
      ]
     },
     "execution_count": 4,
     "metadata": {},
     "output_type": "execute_result"
    }
   ],
   "source": [
    "y_hat = np.maximum(0, np.add(c.T, X.dot(W))).dot(w) + b\n",
    "y_hat"
   ]
  },
  {
   "cell_type": "markdown",
   "metadata": {},
   "source": [
    "#### Now we have \n",
    "\n",
    "### $f(\\mathbf{x};\\mathbf{W},\\mathbf{c},\\mathbf{w},b) = \\mathbf{y}$"
   ]
  },
  {
   "cell_type": "code",
   "execution_count": 5,
   "metadata": {},
   "outputs": [
    {
     "data": {
      "text/plain": [
       "array([[ True],\n",
       "       [ True],\n",
       "       [ True],\n",
       "       [ True]], dtype=bool)"
      ]
     },
     "execution_count": 5,
     "metadata": {},
     "output_type": "execute_result"
    }
   ],
   "source": [
    "y == y_hat"
   ]
  },
  {
   "cell_type": "code",
   "execution_count": 6,
   "metadata": {},
   "outputs": [
    {
     "data": {
      "image/png": "[encoded data removed]",
      "text/plain": [
       "<matplotlib.figure.Figure at 0x23241f5a9e8>"
      ]
     },
     "metadata": {},
     "output_type": "display_data"
    }
   ],
   "source": [
    "x_coords = [0,1,1,2]\n",
    "y_coords = [0,0,0,1]\n",
    "plt.scatter(x_coords,y_coords)\n",
    "plt.plot(x_coords,y_coords)\n",
    "plt.show()"
   ]
  }
 ],
 "metadata": {
  "kernelspec": {
   "display_name": "Python 3",
   "language": "python",
   "name": "python3"
  },
  "language_info": {
   "codemirror_mode": {
    "name": "ipython",
    "version": 3
   },
   "file_extension": ".py",
   "mimetype": "text/x-python",
   "name": "python",
   "nbconvert_exporter": "python",
   "pygments_lexer": "ipython3",
   "version": "3.6.0"
  }
 },
 "nbformat": 4,
 "nbformat_minor": 2
}
