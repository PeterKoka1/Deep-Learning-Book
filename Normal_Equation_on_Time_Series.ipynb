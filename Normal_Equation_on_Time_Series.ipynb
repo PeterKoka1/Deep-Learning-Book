{
 "cells": [
  {
   "cell_type": "markdown",
   "metadata": {},
   "source": [
    "### Normal Equation on equity price (GOOGL and AMZN) time series"
   ]
  },
  {
   "cell_type": "code",
   "execution_count": 1,
   "metadata": {
    "collapsed": true
   },
   "outputs": [],
   "source": [
    "import numpy as np\n",
    "np.random.seed(123)\n",
    "import matplotlib.pyplot as plt\n",
    "import warnings\n",
    "warnings.filterwarnings('ignore')"
   ]
  },
  {
   "cell_type": "code",
   "execution_count": 2,
   "metadata": {
    "collapsed": true
   },
   "outputs": [],
   "source": [
    "from alpha_vantage.timeseries import TimeSeries\n",
    "api_key = 'C98CEUQBPZ9L15IV'\n",
    "ts = TimeSeries(key=api_key, output_format='pandas')\n",
    "GOOG, meta_data = ts.get_daily(symbol='GOOG', outputsize=\"compact\")\n",
    "AMZN, meta_data = ts.get_daily(symbol='AMZN', outputsize=\"compact\")\n",
    "X_train = np.array([GOOG['close'].values]).T\n",
    "y_train = np.array([AMZN['close'].values]).T"
   ]
  },
  {
   "cell_type": "markdown",
   "metadata": {},
   "source": [
    "### $\\begin{vmatrix}\n",
    "2.5\\\\\n",
    "\\end{vmatrix}$\n",
    "\n",
    "### $\\hat{y} = w\\mathbf{X}$"
   ]
  },
  {
   "cell_type": "code",
   "execution_count": 3,
   "metadata": {
    "collapsed": true
   },
   "outputs": [],
   "source": [
    "weight = np.array([2.5])\n",
    "y_hat = weight * X_train"
   ]
  },
  {
   "cell_type": "markdown",
   "metadata": {},
   "source": [
    "### $\\nabla_{w}MSE_{train} = 0$\n",
    "\n",
    "### $\\to \\nabla_{w}\\frac{1}{m}||\\hat{y}^{train}-y^{train}||_2^2 = 0$\n",
    "\n",
    "### $\\to \\frac{1}{m}\\nabla_{w}||\\mathbf{X}^{train}w-y^{train}||_2^2 = 0$"
   ]
  },
  {
   "cell_type": "code",
   "execution_count": 4,
   "metadata": {
    "collapsed": true
   },
   "outputs": [],
   "source": [
    "m = len(X_train)\n",
    "c = 1 / m\n",
    "summed_error = 0\n",
    "for i in range(0, m):\n",
    "    err = np.linalg.norm(y_train[i] - y_hat[i])**2\n",
    "    summed_error += err\n",
    "MSE = c * summed_error"
   ]
  },
  {
   "cell_type": "markdown",
   "metadata": {},
   "source": [
    "#### The normal equation solves for parameter theta\n",
    "\n",
    "### $X^Ty = X^TX\\theta$\n",
    "\n",
    "### $(XX^T)^{-1}X^Ty = (XX^T)^{-1}X^TX\\theta$\n",
    "\n",
    "### $\\theta = (X^TX)^{-1}X^Ty$\n"
   ]
  },
  {
   "cell_type": "code",
   "execution_count": 5,
   "metadata": {},
   "outputs": [
    {
     "data": {
      "text/plain": [
       "array([[ 1.12169625]])"
      ]
     },
     "execution_count": 5,
     "metadata": {},
     "output_type": "execute_result"
    }
   ],
   "source": [
    "optimal_weight = np.linalg.inv(X_train.T.dot(X_train)).dot(X_train.T.dot(y_train))\n",
    "optimal_weight"
   ]
  },
  {
   "cell_type": "markdown",
   "metadata": {},
   "source": [
    "#### With $\\theta$ $\\approx 1.1216$, we can plot the gradient and compare minimum "
   ]
  },
  {
   "cell_type": "code",
   "execution_count": 6,
   "metadata": {},
   "outputs": [
    {
     "data": {
      "image/png": "[encoded data removed]",
      "text/plain": [
       "<matplotlib.figure.Figure at 0x244a2ca0fd0>"
      ]
     },
     "metadata": {},
     "output_type": "display_data"
    }
   ],
   "source": [
    "cost_function = []\n",
    "m = len(X_train)\n",
    "c = 1 / m\n",
    "weights = np.array([np.arange(2.5, 0.1, -0.01)]).T\n",
    "for weight in weights:\n",
    "    y_hat = weight * X_train\n",
    "    summed_error = 0\n",
    "    for i in range(0, m):\n",
    "        err = np.linalg.norm(y_train[i] - y_hat[i])**2\n",
    "        summed_error += err\n",
    "    MSE = c * summed_error\n",
    "    cost_function.append(MSE)\n",
    "plt.plot(weights, cost_function)\n",
    "plt.show()"
   ]
  }
 ],
 "metadata": {
  "kernelspec": {
   "display_name": "Python 3",
   "language": "python",
   "name": "python3"
  },
  "language_info": {
   "codemirror_mode": {
    "name": "ipython",
    "version": 3
   },
   "file_extension": ".py",
   "mimetype": "text/x-python",
   "name": "python",
   "nbconvert_exporter": "python",
   "pygments_lexer": "ipython3",
   "version": "3.6.0"
  }
 },
 "nbformat": 4,
 "nbformat_minor": 2
}
